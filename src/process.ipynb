{
 "cells": [
  {
   "cell_type": "code",
   "execution_count": 1,
   "id": "92e4658a-0b96-4d66-b6dc-22c6717387a2",
   "metadata": {
    "execution": {
     "iopub.execute_input": "2025-06-05T19:24:21.767668Z",
     "iopub.status.busy": "2025-06-05T19:24:21.767350Z",
     "iopub.status.idle": "2025-06-05T19:24:21.775531Z",
     "shell.execute_reply": "2025-06-05T19:24:21.774883Z",
     "shell.execute_reply.started": "2025-06-05T19:24:21.767643Z"
    }
   },
   "outputs": [],
   "source": [
    "import pandas as pd\n",
    "df = pd.read_csv('../data/data.csv', index_col=0)"
   ]
  },
  {
   "cell_type": "code",
   "execution_count": 2,
   "id": "dbeb2596-d65b-49e0-bfe3-a29e25e80d1c",
   "metadata": {
    "execution": {
     "iopub.execute_input": "2025-06-05T19:24:22.371581Z",
     "iopub.status.busy": "2025-06-05T19:24:22.371265Z",
     "iopub.status.idle": "2025-06-05T19:24:22.386622Z",
     "shell.execute_reply": "2025-06-05T19:24:22.385847Z",
     "shell.execute_reply.started": "2025-06-05T19:24:22.371553Z"
    }
   },
   "outputs": [
    {
     "data": {
      "text/html": [
       "<div>\n",
       "<style scoped>\n",
       "    .dataframe tbody tr th:only-of-type {\n",
       "        vertical-align: middle;\n",
       "    }\n",
       "\n",
       "    .dataframe tbody tr th {\n",
       "        vertical-align: top;\n",
       "    }\n",
       "\n",
       "    .dataframe thead th {\n",
       "        text-align: right;\n",
       "    }\n",
       "</style>\n",
       "<table border=\"1\" class=\"dataframe\">\n",
       "  <thead>\n",
       "    <tr style=\"text-align: right;\">\n",
       "      <th></th>\n",
       "      <th>age</th>\n",
       "      <th>sex</th>\n",
       "      <th>bmi</th>\n",
       "      <th>bp</th>\n",
       "      <th>s1</th>\n",
       "      <th>s2</th>\n",
       "      <th>s3</th>\n",
       "      <th>s4</th>\n",
       "      <th>s5</th>\n",
       "      <th>s6</th>\n",
       "    </tr>\n",
       "  </thead>\n",
       "  <tbody>\n",
       "    <tr>\n",
       "      <th>0</th>\n",
       "      <td>0.023653</td>\n",
       "      <td>-0.011149</td>\n",
       "      <td>-0.022068</td>\n",
       "      <td>-0.026776</td>\n",
       "      <td>0.069793</td>\n",
       "      <td>0.005282</td>\n",
       "      <td>-0.028653</td>\n",
       "      <td>-0.058135</td>\n",
       "      <td>0.035165</td>\n",
       "      <td>-0.034278</td>\n",
       "    </tr>\n",
       "    <tr>\n",
       "      <th>1</th>\n",
       "      <td>-0.006584</td>\n",
       "      <td>0.075201</td>\n",
       "      <td>-0.022178</td>\n",
       "      <td>-0.048230</td>\n",
       "      <td>-0.010751</td>\n",
       "      <td>-0.054809</td>\n",
       "      <td>0.088204</td>\n",
       "      <td>0.009946</td>\n",
       "      <td>0.008160</td>\n",
       "      <td>-0.021935</td>\n",
       "    </tr>\n",
       "    <tr>\n",
       "      <th>2</th>\n",
       "      <td>0.030842</td>\n",
       "      <td>0.036545</td>\n",
       "      <td>0.011522</td>\n",
       "      <td>0.014964</td>\n",
       "      <td>0.003216</td>\n",
       "      <td>0.017890</td>\n",
       "      <td>-0.000643</td>\n",
       "      <td>-0.093318</td>\n",
       "      <td>-0.005507</td>\n",
       "      <td>0.050339</td>\n",
       "    </tr>\n",
       "    <tr>\n",
       "      <th>3</th>\n",
       "      <td>0.072525</td>\n",
       "      <td>-0.022356</td>\n",
       "      <td>-0.091109</td>\n",
       "      <td>-0.043239</td>\n",
       "      <td>-0.067845</td>\n",
       "      <td>-0.028602</td>\n",
       "      <td>-0.050367</td>\n",
       "      <td>-0.063247</td>\n",
       "      <td>-0.014338</td>\n",
       "      <td>0.016363</td>\n",
       "    </tr>\n",
       "    <tr>\n",
       "      <th>4</th>\n",
       "      <td>-0.011150</td>\n",
       "      <td>0.025836</td>\n",
       "      <td>-0.082139</td>\n",
       "      <td>-0.067253</td>\n",
       "      <td>-0.025923</td>\n",
       "      <td>-0.013890</td>\n",
       "      <td>0.039169</td>\n",
       "      <td>0.009374</td>\n",
       "      <td>-0.070406</td>\n",
       "      <td>-0.083954</td>\n",
       "    </tr>\n",
       "  </tbody>\n",
       "</table>\n",
       "</div>"
      ],
      "text/plain": [
       "        age       sex       bmi        bp        s1        s2        s3  \\\n",
       "0  0.023653 -0.011149 -0.022068 -0.026776  0.069793  0.005282 -0.028653   \n",
       "1 -0.006584  0.075201 -0.022178 -0.048230 -0.010751 -0.054809  0.088204   \n",
       "2  0.030842  0.036545  0.011522  0.014964  0.003216  0.017890 -0.000643   \n",
       "3  0.072525 -0.022356 -0.091109 -0.043239 -0.067845 -0.028602 -0.050367   \n",
       "4 -0.011150  0.025836 -0.082139 -0.067253 -0.025923 -0.013890  0.039169   \n",
       "\n",
       "         s4        s5        s6  \n",
       "0 -0.058135  0.035165 -0.034278  \n",
       "1  0.009946  0.008160 -0.021935  \n",
       "2 -0.093318 -0.005507  0.050339  \n",
       "3 -0.063247 -0.014338  0.016363  \n",
       "4  0.009374 -0.070406 -0.083954  "
      ]
     },
     "execution_count": 2,
     "metadata": {},
     "output_type": "execute_result"
    }
   ],
   "source": [
    "df"
   ]
  },
  {
   "cell_type": "code",
   "execution_count": 3,
   "id": "33d4c6bc-d15a-44cc-8afd-52e1057ba3e1",
   "metadata": {
    "execution": {
     "iopub.execute_input": "2025-06-05T19:24:22.856117Z",
     "iopub.status.busy": "2025-06-05T19:24:22.855420Z",
     "iopub.status.idle": "2025-06-05T19:24:23.501731Z",
     "shell.execute_reply": "2025-06-05T19:24:23.500876Z",
     "shell.execute_reply.started": "2025-06-05T19:24:22.856082Z"
    }
   },
   "outputs": [
    {
     "name": "stdout",
     "output_type": "stream",
     "text": [
      "[ 76.66434332 103.06654325 134.5427038  110.87044314  48.18267976]\n"
     ]
    }
   ],
   "source": [
    "import pickle\n",
    "\n",
    "with open(\"../models/model.pkl\", \"rb\") as f:\n",
    "    model = pickle.load(f)\n",
    "\n",
    "y_pred = model.predict(df)\n",
    "print(y_pred)"
   ]
  },
  {
   "cell_type": "code",
   "execution_count": null,
   "id": "54fe9d6d-4b03-451b-8114-450cf1d30432",
   "metadata": {},
   "outputs": [],
   "source": []
  },
  {
   "cell_type": "code",
   "execution_count": null,
   "id": "9383d917-2b07-46ed-b730-e8900a52bf85",
   "metadata": {},
   "outputs": [],
   "source": []
  }
 ],
 "metadata": {
  "kernelspec": {
   "display_name": "Python (python3) -> env: base *",
   "language": "python",
   "name": "conda-base-py"
  },
  "language_info": {
   "codemirror_mode": {
    "name": "ipython",
    "version": 3
   },
   "file_extension": ".py",
   "mimetype": "text/x-python",
   "name": "python",
   "nbconvert_exporter": "python",
   "pygments_lexer": "ipython3",
   "version": "3.11.8"
  }
 },
 "nbformat": 4,
 "nbformat_minor": 5
}
